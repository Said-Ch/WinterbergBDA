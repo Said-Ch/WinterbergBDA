import pandas as pd
pd.options.mode.chained_assignment = None  # default='warn'
import matplotlib.pyplot as plt
import math
from scipy.signal import kaiserord, lfilter, firwin, freqz, medfilt
import numpy as np
import scipy.signal as signal

# Import der CSV Daten
dfx = pd.read_csv("./run/ID_001_Run  01_Complete_Run.csv", sep=",", decimal=".", encoding='ansi')
dfx = dfx.rename(columns=str.lower)
dfx.columns = dfx.columns.str.replace(' ','_')


df = dfx[(dfx["time_s"] >= 0) & (dfx["time_s"]<=30)]

# Tilt Angle berechnen -(math.degrees(math.atan(12/100)))
df["tilt_value"] = -(np.degrees(np.arctan(df["_acc_y_m/s2"]/df["_acc_x_m/s2"])))


# First, design the Buterworth filter
N  = 3    # Filter order
Wn = 0.01 # Cutoff frequency Hz
B, A = signal.butter(N, Wn, output='ba')
df['acc_x_smooth'] = signal.filtfilt(B,A, df["_acc_x_m/s2"])
df['acc_y_smooth'] = signal.filtfilt(B,A, df["_acc_y_m/s2"])
df['acc_z_smooth'] = signal.filtfilt(B,A, df["_acc_z_m/s2"])
# Tilt Angle berechnen -(math.degrees(math.atan(12/100)))
df['tilt_smooth'] = -(np.degrees(np.arctan((df['acc_y_smooth'])/(df['acc_x_smooth']))))

df.head()
#df.describe()

#pd.DataFrame(df).to_csv("c:/dev/test.csv",sep=";")

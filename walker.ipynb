{
 "cells": [
  {
   "cell_type": "code",
   "execution_count": 17,
   "metadata": {},
   "outputs": [],
   "source": [
    "import glob\n",
    "import pandas as pd"
   ]
  },
  {
   "cell_type": "code",
   "execution_count": 1,
   "metadata": {},
   "outputs": [
    {
     "ename": "NameError",
     "evalue": "name 'glob' is not defined",
     "output_type": "error",
     "traceback": [
      "\u001b[1;31m---------------------------------------------------------------------------\u001b[0m",
      "\u001b[1;31mNameError\u001b[0m                                 Traceback (most recent call last)",
      "\u001b[1;32mc:\\dev\\Superbob_II\\walker.ipynb Cell 2'\u001b[0m in \u001b[0;36m<module>\u001b[1;34m\u001b[0m\n\u001b[1;32m----> <a href='vscode-notebook-cell:/c%3A/dev/Superbob_II/walker.ipynb#ch0000001?line=0'>1</a>\u001b[0m files \u001b[39m=\u001b[39m glob\u001b[39m.\u001b[39mglob(\u001b[39m\"\u001b[39m\u001b[39m./run/*.csv\u001b[39m\u001b[39m\"\u001b[39m)\n\u001b[0;32m      <a href='vscode-notebook-cell:/c%3A/dev/Superbob_II/walker.ipynb#ch0000001?line=2'>3</a>\u001b[0m li \u001b[39m=\u001b[39m[]\n\u001b[0;32m      <a href='vscode-notebook-cell:/c%3A/dev/Superbob_II/walker.ipynb#ch0000001?line=3'>4</a>\u001b[0m \u001b[39mfor\u001b[39;00m name \u001b[39min\u001b[39;00m files:\n",
      "\u001b[1;31mNameError\u001b[0m: name 'glob' is not defined"
     ]
    }
   ],
   "source": [
    "files = glob.glob(\"./run/*.csv\")\n",
    "\n",
    "li =[]\n",
    "for name in files:\n",
    "    dfx = pd.read_csv(name, sep=\",\", decimal=\".\", encoding='ansi')\n",
    "    dfx = dfx.rename(columns=str.lower)\n",
    "    dfx.columns = dfx.columns.str.replace(' ','_')\n",
    "    print(name)\n",
    "    for index, row in dfx.iterrows():\n",
    "        if row[\"_lightbeam\"].strip() == \"B11\":\n",
    "            break\n",
    "        else:\n",
    "            dfx.drop(index=index,inplace=True)\n",
    "            #print(index)\n",
    "\n",
    "    counter =0\n",
    "    for index, row in dfx.iterrows():\n",
    "        if row[\"_lightbeam\"].strip() == \"2\":\n",
    "            counter=1\n",
    "            continue\n",
    "        if counter ==1:\n",
    "            dfx.drop(index=index,inplace=True)\n",
    "          \n",
    "    li.append(dfx)\n",
    "\n",
    "frame = pd.concat(li, axis=0, ignore_index=True)\n",
    "frame.describe()"
   ]
  }
 ],
 "metadata": {
  "interpreter": {
   "hash": "d928bc376639cb5ee8934d3e590e96ac7a7901ddc68169ba8e8eb89a254de1dc"
  },
  "kernelspec": {
   "display_name": "Python 3.9.6 64-bit",
   "language": "python",
   "name": "python3"
  },
  "language_info": {
   "codemirror_mode": {
    "name": "ipython",
    "version": 3
   },
   "file_extension": ".py",
   "mimetype": "text/x-python",
   "name": "python",
   "nbconvert_exporter": "python",
   "pygments_lexer": "ipython3",
   "version": "3.9.6"
  },
  "orig_nbformat": 4
 },
 "nbformat": 4,
 "nbformat_minor": 2
}
